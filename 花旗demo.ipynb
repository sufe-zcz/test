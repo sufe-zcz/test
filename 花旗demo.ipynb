{
 "cells": [
  {
   "cell_type": "code",
   "execution_count": null,
   "metadata": {},
   "outputs": [],
   "source": [
    "import re\n",
    "def extract_table1(file_path):\n",
    "    text = ''\n",
    "    records = []\n",
    "    with open(file_path, 'r', encoding='utf-8') as file:\n",
    "        in_record = False\n",
    "        for line in file:\n",
    "            if re.search(r'前10名股东持股情况 ', line) or re.search(r'前十名股东持股情况 ', line) or re.search(r'前十名股东情况 ', line):\n",
    "                in_record = True\n",
    "                continue \n",
    "\n",
    "            if (re.search(r'前10名无限售条件股东持股情况 ', line) or re.search(r'前十名无限售条件股东持股情况 ', line) or re.search(r'说明', line) or re.search(r'注', line)) and in_record:\n",
    "                in_record = False\n",
    "                break\n",
    "\n",
    "            if in_record:\n",
    "                records.append(line)\n",
    "\n",
    "    for record in records:\n",
    "        text += str(record)\n",
    "    return text\n",
    "\n",
    "def extract_table2(file_path):\n",
    "    text = ''\n",
    "    records = []\n",
    "    with open(file_path, 'r', encoding='utf-8') as file:\n",
    "        in_record = False\n",
    "        for line in file:\n",
    "            if re.search(r'其他主体中的权益 ', line):\n",
    "                in_record = True\n",
    "                continue\n",
    "\n",
    "            if re.search(r'与金融工具相关的风险 ', line) and in_record:\n",
    "                in_record = False\n",
    "                break\n",
    "\n",
    "            if in_record:\n",
    "                records.append(line)           \n",
    "    for record in records:\n",
    "        text += str(record)\n",
    "    return text\n",
    "\n",
    "file_path = '年报txt/000425-徐工机械2022年年度报告_2023-04-29.txt'\n",
    "text1 = extract_table1(file_path)\n",
    "text2 = extract_table2(file_path)\n",
    "text1"
   ]
  }
 ],
 "metadata": {
  "kernelspec": {
   "display_name": "aaa",
   "language": "python",
   "name": "python3"
  },
  "language_info": {
   "name": "python",
   "version": "3.10.13"
  }
 },
 "nbformat": 4,
 "nbformat_minor": 2
}
